{
 "cells": [
  {
   "cell_type": "code",
   "execution_count": null,
   "metadata": {},
   "outputs": [],
   "source": [
    "import pandas as pd\n",
    "import os\n",
    "import numpy as np\n",
    "from datetime import timedelta\n",
    "import sklearn.metrics as m\n",
    "import seaborn as sns\n",
    "%matplotlib inline"
   ]
  },
  {
   "cell_type": "code",
   "execution_count": null,
   "metadata": {},
   "outputs": [],
   "source": [
    "frame = pd.read_parquet('D:\\\\Backup Daniel\\\\projetos\\\\bolsa\\\\historicos\\\\dados.parquet')\n",
    "frame['gap_petr'] = (frame['abertura_petr']/frame['fechamento_petr'].shift(1))-1\n",
    "frame['gap_petroleo'] = (frame['abertura_petroleo']/frame['fechamento_petroleo'].shift(1))-1\n",
    "frame['valor_abertura_petr_futuro'] = frame['abertura_petr'].shift(-1)\n",
    "frame['valor_abertura_petroleo_futuro'] = frame['abertura_petroleo'].shift(-1)\n",
    "frame['target'] = frame['fechamento_petr'].shift(-1)\n",
    "frame.dropna(inplace=True)\n",
    "frame.head()"
   ]
  },
  {
   "cell_type": "code",
   "execution_count": null,
   "metadata": {},
   "outputs": [],
   "source": [
    "def print_report(y_test, y_pred):\n",
    "    print('MSE: ', m.mean_squared_error(y_test, y_pred))\n",
    "    print('R2: ', m.r2_score(y_test, y_pred))\n",
    "    print('MAE: ', m.median_absolute_error(y_test, y_pred))\n",
    "    print('************Descricao Erro:')\n",
    "    frame_final = pd.DataFrame(y_pred, y_test.ravel())\n",
    "    frame_final.reset_index(inplace=True)\n",
    "    frame_final.rename(inplace=True, columns={'index':'predicao', 0:'real'})\n",
    "    frame_final['erro'] = abs(frame_final['real']-frame_final['predicao'])\n",
    "    print(frame_final.erro.describe())\n",
    "    frame_final.plot(kind='scatter', x='real', y='erro')"
   ]
  },
  {
   "cell_type": "markdown",
   "metadata": {},
   "source": [
    "<b><center>Train Test Split</center></b>"
   ]
  },
  {
   "cell_type": "code",
   "execution_count": null,
   "metadata": {},
   "outputs": [],
   "source": [
    "from sklearn.model_selection import train_test_split\n",
    "\n",
    "X = frame[[\n",
    "    'fechamento_petr', 'abertura_petr', 'maxima_petr', 'minima_petr', \n",
    "    'fechamento_petroleo', 'abertura_petroleo', 'maxima_petroleo', 'minima_petroleo',\n",
    "    'valor_abertura_petr_futuro', 'valor_abertura_petroleo_futuro', 'gap_petr', 'gap_petroleo'\n",
    "]]\n",
    "\n",
    "y = frame['target']\n",
    "\n",
    "X_train, X_test, y_train, y_test =train_test_split(X, y, test_size=0.2, random_state=5)"
   ]
  },
  {
   "cell_type": "markdown",
   "metadata": {},
   "source": [
    "<b><center>Standard Scaler</center></b>"
   ]
  },
  {
   "cell_type": "code",
   "execution_count": null,
   "metadata": {},
   "outputs": [],
   "source": [
    "from sklearn.preprocessing import StandardScaler\n",
    "\n",
    "scaler = StandardScaler()\n",
    "\n",
    "X_train = scaler.fit_transform(X_train)\n",
    "X_test = scaler.transform(X_test)"
   ]
  },
  {
   "cell_type": "markdown",
   "metadata": {},
   "source": [
    "<b><center>Feature Selection</center></b>"
   ]
  },
  {
   "cell_type": "code",
   "execution_count": null,
   "metadata": {},
   "outputs": [],
   "source": [
    "from sklearn.feature_selection import RFECV\n",
    "\n",
    "model = LinearRegression()\n",
    "\n",
    "rfecv = RFECV(\n",
    "    model,\n",
    "    n_jobs=-1\n",
    ")\n",
    "\n",
    "rfecv.fit(X_train, y_train)\n",
    "\n",
    "for k in zip(X.columns, rfecv.support_):\n",
    "    print(k)"
   ]
  },
  {
   "cell_type": "code",
   "execution_count": null,
   "metadata": {},
   "outputs": [],
   "source": [
    "X_train = rfecv.transform(X_train)\n",
    "X_test = rfecv.transform(X_test)"
   ]
  },
  {
   "cell_type": "markdown",
   "metadata": {},
   "source": [
    "<b><center>Linear Regression</center><b>"
   ]
  },
  {
   "cell_type": "code",
   "execution_count": null,
   "metadata": {},
   "outputs": [],
   "source": [
    "from sklearn.linear_model import LinearRegression\n",
    "\n",
    "lr = LinearRegression(\n",
    "    n_jobs=-1\n",
    ")\n",
    "\n",
    "lr.fit(X_train, y_train)\n",
    "\n",
    "y_pred = lr.predict(X_test)\n",
    "\n",
    "print_report(y_test, y_pred)"
   ]
  },
  {
   "cell_type": "code",
   "execution_count": null,
   "metadata": {},
   "outputs": [],
   "source": [
    "frame_final.plot(kind='scatter', y='predicao', x='real', figsize=(7,5))"
   ]
  },
  {
   "cell_type": "code",
   "execution_count": null,
   "metadata": {},
   "outputs": [],
   "source": [
    "g = sns.jointplot(x=\"real\", y=\"predicao\", data=frame_final,\n",
    "                  height=7)"
   ]
  },
  {
   "cell_type": "code",
   "execution_count": null,
   "metadata": {},
   "outputs": [],
   "source": [
    "from sklearn.ensemble import RandomForestRegressor\n",
    "\n",
    "rfr = RandomForestRegressor(\n",
    "    n_estimators=1000,\n",
    "    n_jobs=-1\n",
    ")\n",
    "\n",
    "rfr.fit(X_train, y_train)\n",
    "\n",
    "y_pred = rfr.predict(X_test)\n",
    "\n",
    "print_report(y_test, y_pred)"
   ]
  },
  {
   "cell_type": "markdown",
   "metadata": {},
   "source": [
    "<b><center>Teste em 2020</center></b>"
   ]
  },
  {
   "cell_type": "code",
   "execution_count": null,
   "metadata": {},
   "outputs": [],
   "source": [
    "frame_2020 = pd.read_parquet('D:\\\\Backup Daniel\\\\projetos\\\\bolsa\\\\historicos\\\\dados_2020.parquet')\n",
    "frame_2020['gap_petr'] = (frame_2020['abertura_petr']/frame_2020['fechamento_petr'].shift(1))-1\n",
    "frame_2020['gap_petroleo'] = (frame_2020['abertura_petroleo']/frame_2020['fechamento_petroleo'].shift(1))-1\n",
    "frame_2020['valor_abertura_petr_futuro'] = frame_2020['abertura_petr'].shift(-1)\n",
    "frame_2020['valor_abertura_petroleo_futuro'] = frame_2020['abertura_petroleo'].shift(-1)\n",
    "frame_2020['target'] = frame_2020['fechamento_petr'].shift(-1)\n",
    "frame_2020.dropna(inplace=True)\n",
    "frame_2020.sort_values(by='data', ascending=True, inplace=True)\n",
    "frame_2020.head()"
   ]
  },
  {
   "cell_type": "code",
   "execution_count": null,
   "metadata": {},
   "outputs": [],
   "source": [
    "X_2020 = frame_2020[[\n",
    "    'fechamento_petr', 'abertura_petr', 'maxima_petr', 'minima_petr', \n",
    "    'fechamento_petroleo', 'abertura_petroleo', 'maxima_petroleo', 'minima_petroleo',\n",
    "    'valor_abertura_petr_futuro', 'valor_abertura_petroleo_futuro'\n",
    "]]\n",
    "\n",
    "y_2020 = frame_2020['target']\n",
    "\n",
    "X_2020 = scaler.transform(X_2020)\n",
    "y_2020_pred = lr.predict(X_2020)"
   ]
  },
  {
   "cell_type": "code",
   "execution_count": null,
   "metadata": {},
   "outputs": [],
   "source": [
    "dados = list()\n",
    "for k in zip(frame_2020['data'].values, y_2020_pred, y_2020.ravel()):\n",
    "    dados.append(k)"
   ]
  },
  {
   "cell_type": "code",
   "execution_count": null,
   "metadata": {},
   "outputs": [],
   "source": [
    "frame_final = pd.DataFrame(dados)\n",
    "frame_final.head()\n",
    "frame_final.rename(inplace=True, columns={0:'data', 1:'predito', 2:'real'})\n",
    "frame_final['erro'] = abs(frame_final['real']-frame_final['predito'])"
   ]
  },
  {
   "cell_type": "code",
   "execution_count": null,
   "metadata": {},
   "outputs": [],
   "source": [
    "frame_final.plot(y=['real', 'predicao'], kind='line', figsize=(15,5))"
   ]
  },
  {
   "cell_type": "code",
   "execution_count": null,
   "metadata": {},
   "outputs": [],
   "source": [
    "ax = sns.lineplot(x='data', y=\"predito\", data=frame_final, sizes=(15,5))\n",
    "ax1 = sns.lineplot(x='data', y=\"real\", data=frame_final, sizes=(15,5))"
   ]
  }
 ],
 "metadata": {
  "kernelspec": {
   "display_name": "Python 3",
   "language": "python",
   "name": "python3"
  },
  "language_info": {
   "codemirror_mode": {
    "name": "ipython",
    "version": 3
   },
   "file_extension": ".py",
   "mimetype": "text/x-python",
   "name": "python",
   "nbconvert_exporter": "python",
   "pygments_lexer": "ipython3",
   "version": "3.7.4"
  }
 },
 "nbformat": 4,
 "nbformat_minor": 2
}
